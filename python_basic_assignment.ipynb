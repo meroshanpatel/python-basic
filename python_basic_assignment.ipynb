{
  "nbformat": 4,
  "nbformat_minor": 0,
  "metadata": {
    "colab": {
      "provenance": []
    },
    "kernelspec": {
      "name": "python3",
      "display_name": "Python 3"
    },
    "language_info": {
      "name": "python"
    }
  },
  "cells": [
    {
      "cell_type": "markdown",
      "source": [
        "basic question"
      ],
      "metadata": {
        "id": "gCpkpGPE-KjQ"
      }
    },
    {
      "cell_type": "code",
      "source": [
        "''''\n",
        "1 What is Python, and why is it popular?\n",
        "\n",
        " python is a programming language developed in 1991 to provide ulternative to other language\n",
        " it is versatile language easy to use and learn there in much needed of syntax like need in c\\c++ or others\n",
        " it has lots of library to perform different task such as data visualization manipulation to wrangle and explore\n",
        " apart from it work as a compiler and interpreter at a time that help use to perform task it is also a have implict funtion\n",
        " so to know data type without declaration\n",
        "'''\n"
      ],
      "metadata": {
        "id": "dfTje6dY-H1h"
      },
      "execution_count": null,
      "outputs": []
    },
    {
      "cell_type": "code",
      "source": [
        "'''\n",
        "2 what is interpreter in python?\n",
        "\n",
        " interpreter is a program that convert high level code to machine level\n",
        " in python the code is converted in byte code to exceute it line by line\n",
        " and perform task according to it\n",
        "'''\n"
      ],
      "metadata": {
        "id": "tLFjnqTt-H9h"
      },
      "execution_count": null,
      "outputs": []
    },
    {
      "cell_type": "code",
      "source": [
        "'''\n",
        "3 what are pre defined keywords in python?\n",
        "\n",
        "  pre defined keywords are actually like a free gift with shopping\n",
        "  there are some keywords to perfom task directly by calling them\n",
        "  that make to perform task easier\n",
        "  some examples are or not and whilw for in is print\n",
        "  with true false if else elif etc\n",
        "'''\n",
        "\n"
      ],
      "metadata": {
        "id": "xRTRCic5-H-Z"
      },
      "execution_count": null,
      "outputs": []
    },
    {
      "cell_type": "code",
      "source": [
        "'''\n",
        "4 can keywords be used as variable name>\n",
        "\n",
        "  no keywords cant or should not be used as variable name\n",
        "\n",
        "'''\n",
        "print(if)\n"
      ],
      "metadata": {
        "id": "eBP6j809-H_V",
        "colab": {
          "base_uri": "https://localhost:8080/",
          "height": 106
        },
        "outputId": "acc797a7-fce9-4280-990e-fd9e0f004c28"
      },
      "execution_count": 7,
      "outputs": [
        {
          "output_type": "error",
          "ename": "SyntaxError",
          "evalue": "invalid syntax (ipython-input-7-2516423346.py, line 7)",
          "traceback": [
            "\u001b[0;36m  File \u001b[0;32m\"/tmp/ipython-input-7-2516423346.py\"\u001b[0;36m, line \u001b[0;32m7\u001b[0m\n\u001b[0;31m    print(if)\u001b[0m\n\u001b[0m          ^\u001b[0m\n\u001b[0;31mSyntaxError\u001b[0m\u001b[0;31m:\u001b[0m invalid syntax\n"
          ]
        }
      ]
    },
    {
      "cell_type": "code",
      "source": [
        "\n",
        "'''\n",
        "5 what is mutability in python?\n",
        "\n",
        " so bascially mutability is like a change while writing a program\n",
        " example roshan to mohan\n",
        " the change can be done only in list in which value variables are stored\n",
        "\n",
        "\n",
        "'''"
      ],
      "metadata": {
        "id": "uyhvhFxD-IAR"
      },
      "execution_count": null,
      "outputs": []
    },
    {
      "cell_type": "code",
      "source": [
        "'''\n",
        "6  why list mutables but not the tuples?\n",
        "\n",
        "tuples ar also like the list to store value and variables\n",
        "both have different syntax list are mutables bcz each element cane be changed or replaced while in tuple cant\n",
        "list are used to make changes if we require but tuples used as a fixed no change example password pincode address\n",
        "\n",
        "'''\n"
      ],
      "metadata": {
        "id": "OUeRb6RO-IBQ"
      },
      "execution_count": null,
      "outputs": []
    },
    {
      "cell_type": "code",
      "source": [
        "'''\n",
        "7 what is differnce bw ==  and is operator?\n",
        "\n",
        " == is basciallly is the compariosn operator to compare the the values\n",
        " example 2==2 that means 2 is equal to 2\n",
        " while is operator is bascially work of identity\n",
        " its function to indentity value variable in memory by true or false\n",
        "\n",
        "\n",
        " '''"
      ],
      "metadata": {
        "id": "rIOEkBYA-ICJ"
      },
      "execution_count": null,
      "outputs": []
    },
    {
      "cell_type": "code",
      "source": [
        "'''\n",
        "8 what are logical operator in python?\n",
        "\n",
        " logical operator like and or not is used to combine or manipulate the boolen Value\n",
        " true or false acc to situation or demand\n",
        "\n",
        " '''\n"
      ],
      "metadata": {
        "id": "s901xRqP-IC-"
      },
      "execution_count": null,
      "outputs": []
    },
    {
      "cell_type": "code",
      "source": [
        "'''\n",
        "9 what is type casting?\n",
        "\n",
        " type casting is the function to change the format\n",
        " form int to str or from str to int or form int to float or wise verse\n",
        "\n",
        " '''"
      ],
      "metadata": {
        "id": "42PoQ0ol-ID3"
      },
      "execution_count": null,
      "outputs": []
    },
    {
      "cell_type": "code",
      "source": [
        "'''\n",
        "10 difference bw implict and explicit type casting?\n",
        "\n",
        " impilicit type casting means it automatically covert the data type by python itself\n",
        " whereas explicit user itself have to change the type what needed\n",
        "\n",
        "'''"
      ],
      "metadata": {
        "id": "vf7Wj_My-IFP"
      },
      "execution_count": null,
      "outputs": []
    },
    {
      "cell_type": "code",
      "source": [
        "'''\n",
        "11 What is the purpose of conditional statements in Python?\n",
        "\n",
        " conditional statements basically uses when ther is multiple condition given\n",
        " such as in forget password use either otp from number or form email\n",
        " like if,else,ifelse,nested if"
      ],
      "metadata": {
        "id": "EAqo8Ap5-IGA"
      },
      "execution_count": null,
      "outputs": []
    },
    {
      "cell_type": "code",
      "source": [
        "'''\n",
        "12 How does the elif statement work?\n",
        "\n",
        "  elif statement extended version of if statement where multiple condition given\n",
        "  elif is used\n",
        "'''\n",
        "x=int(input(\"enter the no\"))\n",
        "if x%2==0:\n",
        "  print(\"the no is even\")\n",
        "elif x%2<=1:\n",
        "  print(\"the no is odd\")\n",
        "else:\n",
        "  print(\"the no is in decimal\")"
      ],
      "metadata": {
        "id": "RR99hSZg-IG7",
        "colab": {
          "base_uri": "https://localhost:8080/"
        },
        "outputId": "58f25b63-06ae-49a6-96bf-20563b8c3168"
      },
      "execution_count": 31,
      "outputs": [
        {
          "output_type": "stream",
          "name": "stdout",
          "text": [
            "enter the no445\n",
            "the no is odd\n"
          ]
        }
      ]
    },
    {
      "cell_type": "code",
      "source": [
        "'''\n",
        " 13 What is the difference between for and while loops ?\n",
        "\n",
        " while loop is the loop in which it will execute till the condition is meet\n",
        " in for loop it is used to give the sequence of values\n",
        "'''\n",
        "count=4\n",
        "while count>0:\n",
        "  print(count)\n",
        "  count=count-1"
      ],
      "metadata": {
        "id": "wLC-W3hG-IHy",
        "colab": {
          "base_uri": "https://localhost:8080/"
        },
        "outputId": "01a2942c-1280-4503-f9c3-56c2069cbb6d"
      },
      "execution_count": 36,
      "outputs": [
        {
          "output_type": "stream",
          "name": "stdout",
          "text": [
            "4\n",
            "3\n",
            "2\n",
            "1\n"
          ]
        }
      ]
    },
    {
      "cell_type": "code",
      "source": [
        "l=[1,2,5+9j,\"roshan\",\"nishu\"]\n",
        "for n in l:\n",
        "  print(n)"
      ],
      "metadata": {
        "id": "-RZKgGxo-IIp",
        "colab": {
          "base_uri": "https://localhost:8080/"
        },
        "outputId": "460aef25-826b-44d0-a60e-39bc229dac73"
      },
      "execution_count": 41,
      "outputs": [
        {
          "output_type": "stream",
          "name": "stdout",
          "text": [
            "1\n",
            "2\n",
            "(5+9j)\n",
            "roshan\n",
            "nishu\n"
          ]
        }
      ]
    },
    {
      "cell_type": "code",
      "source": [
        "'''\n",
        "14 Describe a scenario where a while loop is more suitable than a for loop?\n",
        "'''\n",
        "for i in range(10):\n",
        "  print(i,end=\" \")\n"
      ],
      "metadata": {
        "id": "jVVO1GDK-IJj",
        "colab": {
          "base_uri": "https://localhost:8080/"
        },
        "outputId": "2de09c92-a161-4ad2-9022-5bec105275c3"
      },
      "execution_count": 42,
      "outputs": [
        {
          "output_type": "stream",
          "name": "stdout",
          "text": [
            "0 1 2 3 4 5 6 7 8 9 "
          ]
        }
      ]
    },
    {
      "cell_type": "code",
      "source": [
        "count=10\n",
        "while count>0:\n",
        "  print(count)\n",
        "  count=count-1"
      ],
      "metadata": {
        "id": "CUUqYkCT-IKf",
        "colab": {
          "base_uri": "https://localhost:8080/"
        },
        "outputId": "b323c4a7-fe43-48d0-bd39-50cc5550a6a8"
      },
      "execution_count": 78,
      "outputs": [
        {
          "output_type": "stream",
          "name": "stdout",
          "text": [
            "10\n",
            "9\n",
            "8\n",
            "7\n",
            "6\n",
            "5\n",
            "4\n",
            "3\n",
            "2\n",
            "1\n"
          ]
        }
      ]
    },
    {
      "cell_type": "code",
      "source": [],
      "metadata": {
        "id": "9YU_EYFHvyV4"
      },
      "execution_count": null,
      "outputs": []
    },
    {
      "cell_type": "markdown",
      "source": [
        "# practical questions"
      ],
      "metadata": {
        "id": "qVtcZwECvzAT"
      }
    },
    {
      "cell_type": "code",
      "source": [
        "'''\n",
        "1 write a program to print hello world in python\n",
        "\n",
        "'''\n",
        "\n",
        "print(\"hello world\")"
      ],
      "metadata": {
        "id": "5oUBdWsS-IUM",
        "colab": {
          "base_uri": "https://localhost:8080/"
        },
        "outputId": "5939cd51-7d87-4802-91ba-5bf2598e68ae"
      },
      "execution_count": 77,
      "outputs": [
        {
          "output_type": "stream",
          "name": "stdout",
          "text": [
            "hello world\n"
          ]
        }
      ]
    },
    {
      "cell_type": "code",
      "source": [
        "'''\n",
        "2 write a program to print your name and age\n",
        "'''\n",
        "name=\"roshan\"\n",
        "age=25\n",
        "print(f\"my name is {name} and my age is {age}\")"
      ],
      "metadata": {
        "colab": {
          "base_uri": "https://localhost:8080/"
        },
        "id": "P2cJkd6gCYVJ",
        "outputId": "afbd2ed2-8727-4c34-f10b-9283ee01c512"
      },
      "execution_count": null,
      "outputs": [
        {
          "output_type": "stream",
          "name": "stdout",
          "text": [
            "my name is roshan and my age is 25\n"
          ]
        }
      ]
    },
    {
      "cell_type": "code",
      "source": [
        "'''\n",
        "3 write a program to all the pre defined keywords in python\n",
        "'''\n",
        "help (\"keywords\")"
      ],
      "metadata": {
        "colab": {
          "base_uri": "https://localhost:8080/"
        },
        "id": "oGucRPyGCYc9",
        "outputId": "6a68f685-24f3-4d76-ff18-cd2573f4d5bb"
      },
      "execution_count": null,
      "outputs": [
        {
          "output_type": "stream",
          "name": "stdout",
          "text": [
            "\n",
            "Here is a list of the Python keywords.  Enter any keyword to get more help.\n",
            "\n",
            "False               class               from                or\n",
            "None                continue            global              pass\n",
            "True                def                 if                  raise\n",
            "and                 del                 import              return\n",
            "as                  elif                in                  try\n",
            "assert              else                is                  while\n",
            "async               except              lambda              with\n",
            "await               finally             nonlocal            yield\n",
            "break               for                 not                 \n",
            "\n"
          ]
        }
      ]
    },
    {
      "cell_type": "code",
      "source": [
        "'''\n",
        "4 write a program to check given word is a python keywords\n",
        "'''\n",
        "import keyword\n",
        "keyword.iskeyword(\"from\")"
      ],
      "metadata": {
        "colab": {
          "base_uri": "https://localhost:8080/"
        },
        "id": "y0l5cSXWCYeE",
        "outputId": "a634fc0b-6e13-4d22-e456-645a1ff8a5af"
      },
      "execution_count": 45,
      "outputs": [
        {
          "output_type": "execute_result",
          "data": {
            "text/plain": [
              "True"
            ]
          },
          "metadata": {},
          "execution_count": 45
        }
      ]
    },
    {
      "cell_type": "code",
      "source": [
        "'''\n",
        "# 5. Create a list and tuple in Python, and demonstrate how attempting to change an element works differently for each?\n",
        "'''\n",
        "l=[1,2,3, \"roshan\",\"amit\"]\n",
        "l[0]=4\n",
        "l\n"
      ],
      "metadata": {
        "colab": {
          "base_uri": "https://localhost:8080/"
        },
        "id": "7KDeeG37eChU",
        "outputId": "73137b1e-977c-4a17-d6c1-c637ad3038b6"
      },
      "execution_count": 49,
      "outputs": [
        {
          "output_type": "execute_result",
          "data": {
            "text/plain": [
              "[4, 2, 3, 'roshan', 'amit']"
            ]
          },
          "metadata": {},
          "execution_count": 49
        }
      ]
    },
    {
      "cell_type": "code",
      "source": [
        "l=(1,2,3,\"roshan\",\"amit\")\n",
        "l1=(45,65)\n",
        "L=l=l+l1\n",
        "L\n",
        "\n"
      ],
      "metadata": {
        "colab": {
          "base_uri": "https://localhost:8080/"
        },
        "id": "mqIU5svieCwf",
        "outputId": "8d9b7824-be34-4cdc-c5a3-94f6b7713272"
      },
      "execution_count": 64,
      "outputs": [
        {
          "output_type": "execute_result",
          "data": {
            "text/plain": [
              "(1, 2, 3, 'roshan', 'amit', 45, 65)"
            ]
          },
          "metadata": {},
          "execution_count": 64
        }
      ]
    },
    {
      "cell_type": "code",
      "source": [
        "'''\n",
        "6. Write a function to demonstrate the behavior of mutable and immutable arguments.\n",
        "\n",
        "'''\n",
        "\n",
        "l=[1,2,3,\"roshan\"]\n",
        "print(l[-1])\n",
        "l[0]=4\n",
        "l"
      ],
      "metadata": {
        "colab": {
          "base_uri": "https://localhost:8080/"
        },
        "id": "og4ptnEqeCzN",
        "outputId": "8609186c-cf1e-4181-cc73-e3cf4e8fcd86"
      },
      "execution_count": 54,
      "outputs": [
        {
          "output_type": "stream",
          "name": "stdout",
          "text": [
            "roshan\n"
          ]
        },
        {
          "output_type": "execute_result",
          "data": {
            "text/plain": [
              "[4, 2, 3, 'roshan']"
            ]
          },
          "metadata": {},
          "execution_count": 54
        }
      ]
    },
    {
      "cell_type": "code",
      "source": [
        "a=(1,23,45,6,)\n",
        "a"
      ],
      "metadata": {
        "colab": {
          "base_uri": "https://localhost:8080/"
        },
        "id": "RkYN7RaIeC1y",
        "outputId": "5b5f55cf-577c-4c50-f939-e8bd94e189ca"
      },
      "execution_count": 57,
      "outputs": [
        {
          "output_type": "execute_result",
          "data": {
            "text/plain": [
              "(1, 23, 45, 6)"
            ]
          },
          "metadata": {},
          "execution_count": 57
        }
      ]
    },
    {
      "cell_type": "code",
      "source": [
        "a[3]=45"
      ],
      "metadata": {
        "colab": {
          "base_uri": "https://localhost:8080/",
          "height": 141
        },
        "id": "6fG3t2GEeC4E",
        "outputId": "04273985-9877-4d61-91ed-61388026adee"
      },
      "execution_count": 66,
      "outputs": [
        {
          "output_type": "error",
          "ename": "TypeError",
          "evalue": "'tuple' object does not support item assignment",
          "traceback": [
            "\u001b[0;31m---------------------------------------------------------------------------\u001b[0m",
            "\u001b[0;31mTypeError\u001b[0m                                 Traceback (most recent call last)",
            "\u001b[0;32m/tmp/ipython-input-66-4130938647.py\u001b[0m in \u001b[0;36m<cell line: 0>\u001b[0;34m()\u001b[0m\n\u001b[0;32m----> 1\u001b[0;31m \u001b[0ma\u001b[0m\u001b[0;34m[\u001b[0m\u001b[0;36m3\u001b[0m\u001b[0;34m]\u001b[0m\u001b[0;34m=\u001b[0m\u001b[0;36m45\u001b[0m\u001b[0;34m\u001b[0m\u001b[0;34m\u001b[0m\u001b[0m\n\u001b[0m",
            "\u001b[0;31mTypeError\u001b[0m: 'tuple' object does not support item assignment"
          ]
        }
      ]
    },
    {
      "cell_type": "code",
      "source": [],
      "metadata": {
        "id": "kPqFlpuieC6f"
      },
      "execution_count": 45,
      "outputs": []
    },
    {
      "cell_type": "code",
      "source": [
        "'''\n",
        "7. Write a program that performs basic arithmetic operations on two user-input numbers\n",
        "'''\n"
      ],
      "metadata": {
        "colab": {
          "base_uri": "https://localhost:8080/",
          "height": 36
        },
        "id": "iK9RTJNyCYfF",
        "outputId": "10e9e6e7-4017-4909-b237-04e4e1a37a6c"
      },
      "execution_count": 80,
      "outputs": [
        {
          "output_type": "execute_result",
          "data": {
            "text/plain": [
              "'\\n7. Write a program that performs basic arithmetic operations on two user-input numbers\\n'"
            ],
            "application/vnd.google.colaboratory.intrinsic+json": {
              "type": "string"
            }
          },
          "metadata": {},
          "execution_count": 80
        }
      ]
    },
    {
      "cell_type": "code",
      "source": [
        "x=45\n",
        "y=9\n",
        "print(\"addition\" ,x+y)\n",
        "print(\"subtraction\" ,x-y)\n",
        "print(\"multiplication\" ,x*y)\n",
        "print(\"division\" ,x/y)"
      ],
      "metadata": {
        "colab": {
          "base_uri": "https://localhost:8080/"
        },
        "id": "p5mhqjwaCYgG",
        "outputId": "13489f18-1758-4644-b8d3-edebf9879875"
      },
      "execution_count": null,
      "outputs": [
        {
          "output_type": "stream",
          "name": "stdout",
          "text": [
            "addition 54\n",
            "subtraction 36\n",
            "multiplication 405\n",
            "division 5.0\n"
          ]
        }
      ]
    },
    {
      "cell_type": "code",
      "source": [
        "'''\n",
        "8. Write a program to demonstrate the use of logical operators.\n",
        "'''\n",
        "a= True\n",
        "b= False\n",
        "print(a and b)\n",
        "print(a or b)\n",
        "print(not a)"
      ],
      "metadata": {
        "colab": {
          "base_uri": "https://localhost:8080/"
        },
        "id": "fbYy_zurCYhK",
        "outputId": "7a2b977d-1a8d-4cd5-aee4-97eb1f36bc67"
      },
      "execution_count": null,
      "outputs": [
        {
          "output_type": "stream",
          "name": "stdout",
          "text": [
            "False\n",
            "True\n",
            "False\n"
          ]
        }
      ]
    },
    {
      "cell_type": "code",
      "source": [
        "'''\n",
        "9. Write a Python program to convert user input from string to integer, float, and boolean types.\n",
        "'''\n",
        "a=(\"5\")\n",
        "type(a)\n"
      ],
      "metadata": {
        "colab": {
          "base_uri": "https://localhost:8080/"
        },
        "id": "bwqavKV-CYiS",
        "outputId": "2f3082f6-09c8-4ae4-bb6a-689a28297b6c"
      },
      "execution_count": null,
      "outputs": [
        {
          "output_type": "execute_result",
          "data": {
            "text/plain": [
              "str"
            ]
          },
          "metadata": {},
          "execution_count": 38
        }
      ]
    },
    {
      "cell_type": "code",
      "source": [
        "a=int(a)\n",
        "type(a)"
      ],
      "metadata": {
        "colab": {
          "base_uri": "https://localhost:8080/"
        },
        "id": "TNPqUKznCYjU",
        "outputId": "0f4ad1f3-a928-4b21-d37c-b4d877c0996f"
      },
      "execution_count": null,
      "outputs": [
        {
          "output_type": "execute_result",
          "data": {
            "text/plain": [
              "int"
            ]
          },
          "metadata": {},
          "execution_count": 39
        }
      ]
    },
    {
      "cell_type": "code",
      "source": [
        "a=(\"5.65\")\n",
        "type(a)\n"
      ],
      "metadata": {
        "colab": {
          "base_uri": "https://localhost:8080/"
        },
        "id": "7dSdA0m2CYko",
        "outputId": "72d8e430-a4bc-4ad8-8b0b-b26cde67822a"
      },
      "execution_count": null,
      "outputs": [
        {
          "output_type": "execute_result",
          "data": {
            "text/plain": [
              "str"
            ]
          },
          "metadata": {},
          "execution_count": 40
        }
      ]
    },
    {
      "cell_type": "code",
      "source": [
        "a=float(a)\n",
        "type(a)"
      ],
      "metadata": {
        "colab": {
          "base_uri": "https://localhost:8080/"
        },
        "id": "t4tKFisYCYl5",
        "outputId": "a1bee1b6-375e-4e0f-ed2d-ee5444fbe740"
      },
      "execution_count": null,
      "outputs": [
        {
          "output_type": "execute_result",
          "data": {
            "text/plain": [
              "float"
            ]
          },
          "metadata": {},
          "execution_count": 41
        }
      ]
    },
    {
      "cell_type": "code",
      "source": [
        "a=(\"true\")\n",
        "type(a)"
      ],
      "metadata": {
        "colab": {
          "base_uri": "https://localhost:8080/"
        },
        "id": "p21AjdhbCYm9",
        "outputId": "44e46827-6e88-428e-f105-5ad985a23fe4"
      },
      "execution_count": null,
      "outputs": [
        {
          "output_type": "execute_result",
          "data": {
            "text/plain": [
              "str"
            ]
          },
          "metadata": {},
          "execution_count": 42
        }
      ]
    },
    {
      "cell_type": "code",
      "source": [
        "a=bool(a)\n",
        "type(a)"
      ],
      "metadata": {
        "colab": {
          "base_uri": "https://localhost:8080/"
        },
        "id": "beOQFTkrCYoA",
        "outputId": "d262a207-9e9b-4aa2-90cf-988d906351b7"
      },
      "execution_count": null,
      "outputs": [
        {
          "output_type": "execute_result",
          "data": {
            "text/plain": [
              "bool"
            ]
          },
          "metadata": {},
          "execution_count": 43
        }
      ]
    },
    {
      "cell_type": "code",
      "source": [
        "'''\n",
        " 10. Write code to demonstrate type casting with list elements\n",
        "\n",
        "'''\n",
        "l=[1,2,3,4,5]\n",
        "type(l)\n",
        "a=str(l)\n",
        "type(a)"
      ],
      "metadata": {
        "colab": {
          "base_uri": "https://localhost:8080/"
        },
        "id": "L0R5f9iiCYpt",
        "outputId": "2b74541b-c8b8-48aa-c9a1-a88f39f05ec3"
      },
      "execution_count": 84,
      "outputs": [
        {
          "output_type": "execute_result",
          "data": {
            "text/plain": [
              "str"
            ]
          },
          "metadata": {},
          "execution_count": 84
        }
      ]
    },
    {
      "cell_type": "markdown",
      "source": [],
      "metadata": {
        "id": "IDlbSgRnxON6"
      }
    },
    {
      "cell_type": "code",
      "source": [
        "''' 11. Write a program that checks if a number is positive, negative, or zero.\n",
        "'''\n",
        "x=int(input(\"enter the no\"))\n",
        "if x>0:\n",
        "  print(\"the no is positive\")\n",
        "elif x<0:\n",
        "  print(\"the no is negaative\")\n",
        "else:\n",
        "  print(\"the no is zero\")"
      ],
      "metadata": {
        "colab": {
          "base_uri": "https://localhost:8080/"
        },
        "id": "0PTyJBQVCYrx",
        "outputId": "1b4caf1b-afbf-4b3a-d7a6-541f40bd58a4"
      },
      "execution_count": 76,
      "outputs": [
        {
          "output_type": "stream",
          "name": "stdout",
          "text": [
            "enter the no 45\n",
            "the no is positive\n"
          ]
        }
      ]
    },
    {
      "cell_type": "code",
      "source": [
        "'''\n",
        "12. Write a for loop to print numbers from 1 to 10?\n",
        "'''\n",
        "for i in range(1,11):\n",
        "  print(i)"
      ],
      "metadata": {
        "id": "N2pX1bsLKHuZ",
        "colab": {
          "base_uri": "https://localhost:8080/"
        },
        "outputId": "b0a03970-d6af-40cf-e3ed-3a9becdda96d"
      },
      "execution_count": 68,
      "outputs": [
        {
          "output_type": "stream",
          "name": "stdout",
          "text": [
            "1\n",
            "2\n",
            "3\n",
            "4\n",
            "5\n",
            "6\n",
            "7\n",
            "8\n",
            "9\n",
            "10\n"
          ]
        }
      ]
    },
    {
      "cell_type": "code",
      "source": [
        "'''\n",
        "13. Write a Python program to find the sum of all even numbers between 1 and 50.?\n",
        "'''\n",
        "add=0\n",
        "for i in range(1,51):\n",
        "  if i%2==0:\n",
        "    add=add+i\n",
        "print(add)\n"
      ],
      "metadata": {
        "id": "pLTn7vtVKHwn",
        "colab": {
          "base_uri": "https://localhost:8080/"
        },
        "outputId": "e3836081-383b-4a04-a2cf-bbdea1767f13"
      },
      "execution_count": 70,
      "outputs": [
        {
          "output_type": "stream",
          "name": "stdout",
          "text": [
            "650\n"
          ]
        }
      ]
    },
    {
      "cell_type": "code",
      "source": [
        "'''\n",
        "14. Write a program to reverse a string using a while loop?\n",
        "\n",
        "'''\n",
        "a=\"roshan\"\n",
        "i=len(a)-1\n",
        "while i>=0:\n",
        "  print(a[i])\n",
        "  i=i-1\n"
      ],
      "metadata": {
        "id": "7mgJ5EsGKHy7",
        "colab": {
          "base_uri": "https://localhost:8080/"
        },
        "outputId": "bf030d2c-fca9-48bc-f856-af7f6bcbcbc9"
      },
      "execution_count": 75,
      "outputs": [
        {
          "output_type": "stream",
          "name": "stdout",
          "text": [
            "n\n",
            "a\n",
            "h\n",
            "s\n",
            "o\n",
            "r\n"
          ]
        }
      ]
    },
    {
      "cell_type": "code",
      "source": [],
      "metadata": {
        "id": "KTe11VogKH3d"
      },
      "execution_count": null,
      "outputs": []
    },
    {
      "cell_type": "code",
      "source": [
        "'''\n",
        "15. Write a Python program to calculate the factorial of a number provided by the user using a while loop?\n",
        "'''\n",
        "num=int(input(\"enter the no\"))\n",
        "fact=1\n",
        "while num>0:\n",
        "  fact=fact*num\n",
        "  num=num-1\n",
        "print(fact)"
      ],
      "metadata": {
        "id": "ghtwdHlmKH5X",
        "colab": {
          "base_uri": "https://localhost:8080/"
        },
        "outputId": "1e965a9b-efc0-4a66-9780-f401bdb7956c"
      },
      "execution_count": 73,
      "outputs": [
        {
          "output_type": "stream",
          "name": "stdout",
          "text": [
            "enter the no 6\n",
            "720\n"
          ]
        }
      ]
    },
    {
      "cell_type": "code",
      "source": [],
      "metadata": {
        "id": "2uuFn5yMuBS4"
      },
      "execution_count": 71,
      "outputs": []
    },
    {
      "cell_type": "code",
      "source": [],
      "metadata": {
        "id": "plU6iuCJuBbc"
      },
      "execution_count": 71,
      "outputs": []
    },
    {
      "cell_type": "code",
      "source": [],
      "metadata": {
        "id": "CbtOF8yQuBeR"
      },
      "execution_count": 71,
      "outputs": []
    },
    {
      "cell_type": "code",
      "source": [],
      "metadata": {
        "id": "pa_aIoB_uBil"
      },
      "execution_count": null,
      "outputs": []
    }
  ]
}